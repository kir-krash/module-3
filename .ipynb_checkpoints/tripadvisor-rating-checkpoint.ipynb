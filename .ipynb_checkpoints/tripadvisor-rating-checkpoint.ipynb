{
 "cells": [
  {
   "cell_type": "markdown",
   "metadata": {},
   "source": [
    "![](https://www.pata.org/wp-content/uploads/2014/09/TripAdvisor_Logo-300x119.png)\n",
    "# Predict TripAdvisor Rating\n",
    "## Задача: предсказать рейтинг ресторана в TripAdvisor\n",
    "   "
   ]
  },
  {
   "cell_type": "markdown",
   "metadata": {},
   "source": [
    "# import"
   ]
  },
  {
   "cell_type": "code",
   "execution_count": 1,
   "metadata": {
    "_cell_guid": "b1076dfc-b9ad-4769-8c92-a6c4dae69d19",
    "_uuid": "8f2839f25d086af736a60e9eeb907d3b93b6e0e5"
   },
   "outputs": [],
   "source": [
    "# This Python 3 environment comes with many helpful analytics libraries installed\n",
    "# It is defined by the kaggle/python docker image: https://github.com/kaggle/docker-python\n",
    "# For example, here's several helpful packages to load in \n",
    "\n",
    "import numpy as np # linear algebra\n",
    "import pandas as pd # data processing, CSV file I/O (e.g. pd.read_csv)\n",
    "from ast import literal_eval\n",
    "from datetime import datetime\n",
    "\n",
    "import matplotlib.pyplot as plt\n",
    "import seaborn as sns \n",
    "%matplotlib inline\n",
    "\n",
    "# Загружаем специальный удобный инструмент для разделения датасета:\n",
    "from sklearn.model_selection import train_test_split"
   ]
  },
  {
   "cell_type": "code",
   "execution_count": 2,
   "metadata": {},
   "outputs": [],
   "source": [
    "# всегда фиксируйте RANDOM_SEED, чтобы ваши эксперименты были воспроизводимы!\n",
    "RANDOM_SEED = 42"
   ]
  },
  {
   "cell_type": "markdown",
   "metadata": {},
   "source": [
    "# DATA"
   ]
  },
  {
   "cell_type": "code",
   "execution_count": 3,
   "metadata": {
    "_cell_guid": "79c7e3d0-c299-4dcb-8224-4455121ee9b0",
    "_uuid": "d629ff2d2480ee46fbb7e2d37f6b5fab8052498a"
   },
   "outputs": [],
   "source": [
    "df = pd.read_csv('main_task.csv')"
   ]
  },
  {
   "cell_type": "code",
   "execution_count": 4,
   "metadata": {},
   "outputs": [
    {
     "name": "stdout",
     "output_type": "stream",
     "text": [
      "<class 'pandas.core.frame.DataFrame'>\n",
      "RangeIndex: 40000 entries, 0 to 39999\n",
      "Data columns (total 10 columns):\n",
      " #   Column             Non-Null Count  Dtype  \n",
      "---  ------             --------------  -----  \n",
      " 0   Restaurant_id      40000 non-null  object \n",
      " 1   City               40000 non-null  object \n",
      " 2   Cuisine Style      30717 non-null  object \n",
      " 3   Ranking            40000 non-null  float64\n",
      " 4   Rating             40000 non-null  float64\n",
      " 5   Price Range        26114 non-null  object \n",
      " 6   Number of Reviews  37457 non-null  float64\n",
      " 7   Reviews            40000 non-null  object \n",
      " 8   URL_TA             40000 non-null  object \n",
      " 9   ID_TA              40000 non-null  object \n",
      "dtypes: float64(3), object(7)\n",
      "memory usage: 3.1+ MB\n"
     ]
    }
   ],
   "source": [
    "df.info()"
   ]
  },
  {
   "cell_type": "code",
   "execution_count": 5,
   "metadata": {},
   "outputs": [
    {
     "data": {
      "text/html": [
       "<div>\n",
       "<style scoped>\n",
       "    .dataframe tbody tr th:only-of-type {\n",
       "        vertical-align: middle;\n",
       "    }\n",
       "\n",
       "    .dataframe tbody tr th {\n",
       "        vertical-align: top;\n",
       "    }\n",
       "\n",
       "    .dataframe thead th {\n",
       "        text-align: right;\n",
       "    }\n",
       "</style>\n",
       "<table border=\"1\" class=\"dataframe\">\n",
       "  <thead>\n",
       "    <tr style=\"text-align: right;\">\n",
       "      <th></th>\n",
       "      <th>Restaurant_id</th>\n",
       "      <th>City</th>\n",
       "      <th>Cuisine Style</th>\n",
       "      <th>Ranking</th>\n",
       "      <th>Rating</th>\n",
       "      <th>Price Range</th>\n",
       "      <th>Number of Reviews</th>\n",
       "      <th>Reviews</th>\n",
       "      <th>URL_TA</th>\n",
       "      <th>ID_TA</th>\n",
       "    </tr>\n",
       "  </thead>\n",
       "  <tbody>\n",
       "    <tr>\n",
       "      <th>0</th>\n",
       "      <td>id_5569</td>\n",
       "      <td>Paris</td>\n",
       "      <td>['European', 'French', 'International']</td>\n",
       "      <td>5570.0</td>\n",
       "      <td>3.5</td>\n",
       "      <td>$$ - $$$</td>\n",
       "      <td>194.0</td>\n",
       "      <td>[['Good food at your doorstep', 'A good hotel ...</td>\n",
       "      <td>/Restaurant_Review-g187147-d1912643-Reviews-R_...</td>\n",
       "      <td>d1912643</td>\n",
       "    </tr>\n",
       "    <tr>\n",
       "      <th>1</th>\n",
       "      <td>id_1535</td>\n",
       "      <td>Stockholm</td>\n",
       "      <td>NaN</td>\n",
       "      <td>1537.0</td>\n",
       "      <td>4.0</td>\n",
       "      <td>NaN</td>\n",
       "      <td>10.0</td>\n",
       "      <td>[['Unique cuisine', 'Delicious Nepalese food']...</td>\n",
       "      <td>/Restaurant_Review-g189852-d7992032-Reviews-Bu...</td>\n",
       "      <td>d7992032</td>\n",
       "    </tr>\n",
       "    <tr>\n",
       "      <th>2</th>\n",
       "      <td>id_352</td>\n",
       "      <td>London</td>\n",
       "      <td>['Japanese', 'Sushi', 'Asian', 'Grill', 'Veget...</td>\n",
       "      <td>353.0</td>\n",
       "      <td>4.5</td>\n",
       "      <td>$$$$</td>\n",
       "      <td>688.0</td>\n",
       "      <td>[['Catch up with friends', 'Not exceptional'],...</td>\n",
       "      <td>/Restaurant_Review-g186338-d8632781-Reviews-RO...</td>\n",
       "      <td>d8632781</td>\n",
       "    </tr>\n",
       "    <tr>\n",
       "      <th>3</th>\n",
       "      <td>id_3456</td>\n",
       "      <td>Berlin</td>\n",
       "      <td>NaN</td>\n",
       "      <td>3458.0</td>\n",
       "      <td>5.0</td>\n",
       "      <td>NaN</td>\n",
       "      <td>3.0</td>\n",
       "      <td>[[], []]</td>\n",
       "      <td>/Restaurant_Review-g187323-d1358776-Reviews-Es...</td>\n",
       "      <td>d1358776</td>\n",
       "    </tr>\n",
       "    <tr>\n",
       "      <th>4</th>\n",
       "      <td>id_615</td>\n",
       "      <td>Munich</td>\n",
       "      <td>['German', 'Central European', 'Vegetarian Fri...</td>\n",
       "      <td>621.0</td>\n",
       "      <td>4.0</td>\n",
       "      <td>$$ - $$$</td>\n",
       "      <td>84.0</td>\n",
       "      <td>[['Best place to try a Bavarian food', 'Nice b...</td>\n",
       "      <td>/Restaurant_Review-g187309-d6864963-Reviews-Au...</td>\n",
       "      <td>d6864963</td>\n",
       "    </tr>\n",
       "  </tbody>\n",
       "</table>\n",
       "</div>"
      ],
      "text/plain": [
       "  Restaurant_id       City                                      Cuisine Style  \\\n",
       "0       id_5569      Paris            ['European', 'French', 'International']   \n",
       "1       id_1535  Stockholm                                                NaN   \n",
       "2        id_352     London  ['Japanese', 'Sushi', 'Asian', 'Grill', 'Veget...   \n",
       "3       id_3456     Berlin                                                NaN   \n",
       "4        id_615     Munich  ['German', 'Central European', 'Vegetarian Fri...   \n",
       "\n",
       "   Ranking  Rating Price Range  Number of Reviews  \\\n",
       "0   5570.0     3.5    $$ - $$$              194.0   \n",
       "1   1537.0     4.0         NaN               10.0   \n",
       "2    353.0     4.5        $$$$              688.0   \n",
       "3   3458.0     5.0         NaN                3.0   \n",
       "4    621.0     4.0    $$ - $$$               84.0   \n",
       "\n",
       "                                             Reviews  \\\n",
       "0  [['Good food at your doorstep', 'A good hotel ...   \n",
       "1  [['Unique cuisine', 'Delicious Nepalese food']...   \n",
       "2  [['Catch up with friends', 'Not exceptional'],...   \n",
       "3                                           [[], []]   \n",
       "4  [['Best place to try a Bavarian food', 'Nice b...   \n",
       "\n",
       "                                              URL_TA     ID_TA  \n",
       "0  /Restaurant_Review-g187147-d1912643-Reviews-R_...  d1912643  \n",
       "1  /Restaurant_Review-g189852-d7992032-Reviews-Bu...  d7992032  \n",
       "2  /Restaurant_Review-g186338-d8632781-Reviews-RO...  d8632781  \n",
       "3  /Restaurant_Review-g187323-d1358776-Reviews-Es...  d1358776  \n",
       "4  /Restaurant_Review-g187309-d6864963-Reviews-Au...  d6864963  "
      ]
     },
     "execution_count": 5,
     "metadata": {},
     "output_type": "execute_result"
    }
   ],
   "source": [
    "df.head(5)"
   ]
  },
  {
   "cell_type": "markdown",
   "metadata": {},
   "source": [
    "Подробнее по признакам:\n",
    "* City: Город \n",
    "* Cuisine Style: Кухня\n",
    "* Ranking: Ранг ресторана относительно других ресторанов в этом городе\n",
    "* Price Range: Цены в ресторане в 3 категориях\n",
    "* Number of Reviews: Количество отзывов\n",
    "* Reviews: 2 последних отзыва и даты этих отзывов\n",
    "* URL_TA: страница ресторана на 'www.tripadvisor.com' \n",
    "* ID_TA: ID ресторана в TripAdvisor\n",
    "* Rating: Рейтинг ресторана"
   ]
  },
  {
   "cell_type": "markdown",
   "metadata": {},
   "source": [
    "Загрузим дополнительные данные по городам"
   ]
  },
  {
   "cell_type": "code",
   "execution_count": 6,
   "metadata": {},
   "outputs": [],
   "source": [
    "cities = pd.read_csv('worldcities.csv')\n",
    "cities = cities[~cities['iso2'].isin(['US', 'CA'])]"
   ]
  },
  {
   "cell_type": "markdown",
   "metadata": {},
   "source": [
    "Обработаем данные по городам чтобы в дальнейшем можно было получить признаки Страна, Население и Столичность"
   ]
  },
  {
   "cell_type": "code",
   "execution_count": 7,
   "metadata": {},
   "outputs": [
    {
     "data": {
      "text/plain": [
       "{'Paris': 11020000.0,\n",
       " 'London': 10979000.0,\n",
       " 'Barcelona': 448016.0,\n",
       " 'Berlin': 3644826.0,\n",
       " 'Madrid': 3266126.0,\n",
       " 'Rome': 2872800.0,\n",
       " 'Vienna': 1840573.0,\n",
       " 'Hamburg': 1841179.0,\n",
       " 'Warsaw': 1790658.0,\n",
       " 'Budapest': 1752286.0,\n",
       " 'Munich': 1471508.0,\n",
       " 'Milan': 1351562.0,\n",
       " 'Prague': 1324277.0,\n",
       " 'Dublin': 1173179.0,\n",
       " 'Copenhagen': 1085000.0,\n",
       " 'Amsterdam': 1031000.0,\n",
       " 'Stockholm': 972647.0,\n",
       " 'Oslo': 693494.0,\n",
       " 'Athens': 664046.0,\n",
       " 'Helsinki': 642045.0,\n",
       " 'Lisbon': 506654.0,\n",
       " 'Bratislava': 429564.0,\n",
       " 'Ljubljana': 284355.0,\n",
       " 'Brussels': 185103.0,\n",
       " 'Luxembourg': 122273.0,\n",
       " 'Krakow': 766739.0,\n",
       " 'Lyon': 516092.0,\n",
       " 'Edinburgh': 488050.0,\n",
       " 'Zurich': 434008.0,\n",
       " 'Porto': 237591.0,\n",
       " 'Geneva': 201818.0}"
      ]
     },
     "metadata": {},
     "output_type": "display_data"
    },
    {
     "data": {
      "text/plain": [
       "{'Paris': 'France',\n",
       " 'London': 'United Kingdom',\n",
       " 'Barcelona': 'Venezuela',\n",
       " 'Berlin': 'Germany',\n",
       " 'Madrid': 'Spain',\n",
       " 'Rome': 'Italy',\n",
       " 'Vienna': 'Austria',\n",
       " 'Hamburg': 'Germany',\n",
       " 'Warsaw': 'Poland',\n",
       " 'Budapest': 'Hungary',\n",
       " 'Munich': 'Germany',\n",
       " 'Milan': 'Italy',\n",
       " 'Prague': 'Czechia',\n",
       " 'Dublin': 'Ireland',\n",
       " 'Copenhagen': 'Denmark',\n",
       " 'Amsterdam': 'Netherlands',\n",
       " 'Stockholm': 'Sweden',\n",
       " 'Oslo': 'Norway',\n",
       " 'Athens': 'Greece',\n",
       " 'Helsinki': 'Finland',\n",
       " 'Lisbon': 'Portugal',\n",
       " 'Bratislava': 'Slovakia',\n",
       " 'Ljubljana': 'Slovenia',\n",
       " 'Brussels': 'Belgium',\n",
       " 'Luxembourg': 'Luxembourg',\n",
       " 'Krakow': 'Poland',\n",
       " 'Lyon': 'France',\n",
       " 'Edinburgh': 'United Kingdom',\n",
       " 'Zurich': 'Switzerland',\n",
       " 'Porto': 'Portugal',\n",
       " 'Geneva': 'Switzerland'}"
      ]
     },
     "metadata": {},
     "output_type": "display_data"
    },
    {
     "data": {
      "text/plain": [
       "['Paris',\n",
       " 'London',\n",
       " 'Berlin',\n",
       " 'Madrid',\n",
       " 'Rome',\n",
       " 'Vienna',\n",
       " 'Warsaw',\n",
       " 'Budapest',\n",
       " 'Prague',\n",
       " 'Dublin',\n",
       " 'Copenhagen',\n",
       " 'Amsterdam',\n",
       " 'Stockholm',\n",
       " 'Oslo',\n",
       " 'Athens',\n",
       " 'Helsinki',\n",
       " 'Lisbon',\n",
       " 'Bratislava',\n",
       " 'Ljubljana',\n",
       " 'Brussels',\n",
       " 'Luxembourg']"
      ]
     },
     "metadata": {},
     "output_type": "display_data"
    }
   ],
   "source": [
    "population = {}\n",
    "capital = []\n",
    "country = {}\n",
    "\n",
    "def get_city_data(row):\n",
    "    \"\"\"Функция заполняет справочники population, capital и country\"\"\"\n",
    "    population.update({row['city_ascii']: row['population']})\n",
    "    country.update({row['city_ascii']: row['country']})\n",
    "    if row['capital']=='primary':\n",
    "        capital.append(row['city_ascii'])\n",
    "\n",
    "\n",
    "df['City'] = df['City'].apply(lambda x: 'Porto' if x=='Oporto' else x) # везде Porto в справочниках\n",
    "city_list = list(df['City'].unique()) # формируем лист городов присутствующих в датасете\n",
    "cities[cities['city_ascii'].isin(city_list)].apply(get_city_data, axis = 1)\n",
    "display(population, country, capital)"
   ]
  },
  {
   "cell_type": "markdown",
   "metadata": {},
   "source": [
    "Приведем имена колонок в удобный вид"
   ]
  },
  {
   "cell_type": "code",
   "execution_count": 9,
   "metadata": {},
   "outputs": [],
   "source": [
    "df.columns = ['Restaurant_id', 'City', 'Cuisine_Style', 'Ranking', 'Rating',\n",
    "       'Price_Range', 'Number_of_Reviews', 'Reviews', 'URL_TA', 'ID_TA']"
   ]
  },
  {
   "cell_type": "markdown",
   "metadata": {},
   "source": [
    "Оценим количество пропусков в данных"
   ]
  },
  {
   "cell_type": "code",
   "execution_count": 10,
   "metadata": {},
   "outputs": [
    {
     "name": "stdout",
     "output_type": "stream",
     "text": [
      "<class 'pandas.core.frame.DataFrame'>\n",
      "RangeIndex: 40000 entries, 0 to 39999\n",
      "Data columns (total 10 columns):\n",
      " #   Column             Non-Null Count  Dtype  \n",
      "---  ------             --------------  -----  \n",
      " 0   Restaurant_id      40000 non-null  object \n",
      " 1   City               40000 non-null  object \n",
      " 2   Cuisine_Style      30717 non-null  object \n",
      " 3   Ranking            40000 non-null  float64\n",
      " 4   Rating             40000 non-null  float64\n",
      " 5   Price_Range        26114 non-null  object \n",
      " 6   Number_of_Reviews  37457 non-null  float64\n",
      " 7   Reviews            40000 non-null  object \n",
      " 8   URL_TA             40000 non-null  object \n",
      " 9   ID_TA              40000 non-null  object \n",
      "dtypes: float64(3), object(7)\n",
      "memory usage: 3.1+ MB\n"
     ]
    },
    {
     "data": {
      "text/plain": [
       "Restaurant_id            0\n",
       "City                     0\n",
       "Cuisine_Style         9283\n",
       "Ranking                  0\n",
       "Rating                   0\n",
       "Price_Range          13886\n",
       "Number_of_Reviews     2543\n",
       "Reviews                  0\n",
       "URL_TA                   0\n",
       "ID_TA                    0\n",
       "dtype: int64"
      ]
     },
     "execution_count": 10,
     "metadata": {},
     "output_type": "execute_result"
    }
   ],
   "source": [
    "df.info()\n",
    "df.isna().sum()"
   ]
  },
  {
   "cell_type": "markdown",
   "metadata": {},
   "source": [
    "Как видим, большинство признаков у нас требует очистки и предварительной обработки."
   ]
  },
  {
   "cell_type": "markdown",
   "metadata": {},
   "source": [
    "# Cleaning and Prepping Data"
   ]
  },
  {
   "cell_type": "markdown",
   "metadata": {},
   "source": [
    "### Обработка признаков\n",
    "Для начала посмотрим какие признаки у нас могут быть категориальными."
   ]
  },
  {
   "cell_type": "code",
   "execution_count": 11,
   "metadata": {},
   "outputs": [
    {
     "data": {
      "text/plain": [
       "Restaurant_id        11909\n",
       "City                    31\n",
       "Cuisine_Style         9008\n",
       "Ranking              11936\n",
       "Rating                   9\n",
       "Price_Range              4\n",
       "Number_of_Reviews     1460\n",
       "Reviews              33516\n",
       "URL_TA               39980\n",
       "ID_TA                39980\n",
       "dtype: int64"
      ]
     },
     "execution_count": 11,
     "metadata": {},
     "output_type": "execute_result"
    }
   ],
   "source": [
    "df.nunique(dropna=False)"
   ]
  },
  {
   "cell_type": "markdown",
   "metadata": {},
   "source": [
    "Категориальными можно считать City и Price Range"
   ]
  },
  {
   "cell_type": "markdown",
   "metadata": {},
   "source": [
    "Начнем с City\n",
    "# City"
   ]
  },
  {
   "cell_type": "code",
   "execution_count": 12,
   "metadata": {},
   "outputs": [
    {
     "data": {
      "text/plain": [
       "31"
      ]
     },
     "execution_count": 12,
     "metadata": {},
     "output_type": "execute_result"
    }
   ],
   "source": [
    "len(city_list)"
   ]
  },
  {
   "cell_type": "markdown",
   "metadata": {},
   "source": [
    "Всего в датасете у нас 31 ресторан"
   ]
  },
  {
   "cell_type": "code",
   "execution_count": 13,
   "metadata": {},
   "outputs": [],
   "source": [
    "# Создадим новый признак - количество ресторанов в городе\n",
    "df['Rests_in_City'] = df['City'].map(df.groupby(['City'])['Restaurant_id'].count().to_dict())"
   ]
  },
  {
   "cell_type": "code",
   "execution_count": 14,
   "metadata": {},
   "outputs": [],
   "source": [
    "# Создадим новый признак, что ресторан находится в столице\n",
    "df['Is_Capital'] = df['City'].apply(lambda x: 1 if x in capital else 0)"
   ]
  },
  {
   "cell_type": "code",
   "execution_count": 15,
   "metadata": {},
   "outputs": [],
   "source": [
    "df['Country'] = df['City'].map(country) # Новый признак - Страна"
   ]
  },
  {
   "cell_type": "code",
   "execution_count": 16,
   "metadata": {},
   "outputs": [],
   "source": [
    "df['City_Population'] = df['City'].map(population) # Население города\n",
    "df['Rests_per_Person'] = df['Rests_in_City'] / df['City_Population'] # Оцениваем количество ресторанов на одного жителя"
   ]
  },
  {
   "cell_type": "code",
   "execution_count": 17,
   "metadata": {},
   "outputs": [],
   "source": [
    "df['Ranking_Norm'] = df['Ranking'] / df['Rests_in_City'] # Нормируем Ranking количеством ресторанов на город"
   ]
  },
  {
   "cell_type": "code",
   "execution_count": 18,
   "metadata": {},
   "outputs": [
    {
     "data": {
      "text/plain": [
       "<AxesSubplot:>"
      ]
     },
     "execution_count": 18,
     "metadata": {},
     "output_type": "execute_result"
    },
    {
     "data": {
      "image/png": "[encoded data removed]",
      "text/plain": [
       "<Figure size 432x288 with 1 Axes>"
      ]
     },
     "metadata": {
      "needs_background": "light"
     },
     "output_type": "display_data"
    }
   ],
   "source": [
    "df['Ranking_Norm'].hist()"
   ]
  },
  {
   "cell_type": "markdown",
   "metadata": {},
   "source": [
    "# По описанию 'Price Range' это - Цены в ресторане.  \n",
    "Их можно поставить по возрастанию (значит это не категориальный признак). А это значит, что их можно заменить последовательными числами, например 1,2,3"
   ]
  },
  {
   "cell_type": "code",
   "execution_count": 19,
   "metadata": {},
   "outputs": [
    {
     "data": {
      "text/plain": [
       "$$ - $$$    18412\n",
       "NaN         13886\n",
       "$            6279\n",
       "$$$$         1423\n",
       "Name: Price_Range, dtype: int64"
      ]
     },
     "execution_count": 19,
     "metadata": {},
     "output_type": "execute_result"
    }
   ],
   "source": [
    "df['Price_Range'].value_counts(dropna = False)"
   ]
  },
  {
   "cell_type": "markdown",
   "metadata": {},
   "source": [
    "Есть много пропусков, нужно оценить как их можно заполнить"
   ]
  },
  {
   "cell_type": "code",
   "execution_count": 20,
   "metadata": {},
   "outputs": [],
   "source": [
    "df['Price_Range_NAN'] = pd.isna(df['Price_Range']).astype('uint8')"
   ]
  },
  {
   "cell_type": "code",
   "execution_count": 21,
   "metadata": {},
   "outputs": [],
   "source": [
    "price_dict = {'$': 1,\n",
    "              '$$ - $$$': 2,\n",
    "              '$$$$': 3}\n",
    "\n",
    "df['Price_Range'] = df['Price_Range'].map(price_dict)"
   ]
  },
  {
   "cell_type": "code",
   "execution_count": 22,
   "metadata": {},
   "outputs": [
    {
     "data": {
      "text/plain": [
       "count    26114.000000\n",
       "mean         1.814046\n",
       "std          0.510263\n",
       "min          1.000000\n",
       "25%          2.000000\n",
       "50%          2.000000\n",
       "75%          2.000000\n",
       "max          3.000000\n",
       "Name: Price_Range, dtype: float64"
      ]
     },
     "metadata": {},
     "output_type": "display_data"
    },
    {
     "data": {
      "text/html": [
       "<div>\n",
       "<style scoped>\n",
       "    .dataframe tbody tr th:only-of-type {\n",
       "        vertical-align: middle;\n",
       "    }\n",
       "\n",
       "    .dataframe tbody tr th {\n",
       "        vertical-align: top;\n",
       "    }\n",
       "\n",
       "    .dataframe thead th {\n",
       "        text-align: right;\n",
       "    }\n",
       "</style>\n",
       "<table border=\"1\" class=\"dataframe\">\n",
       "  <thead>\n",
       "    <tr style=\"text-align: right;\">\n",
       "      <th></th>\n",
       "      <th>Price_Range</th>\n",
       "      <th>Price_Range</th>\n",
       "    </tr>\n",
       "    <tr>\n",
       "      <th>City</th>\n",
       "      <th></th>\n",
       "      <th></th>\n",
       "    </tr>\n",
       "  </thead>\n",
       "  <tbody>\n",
       "    <tr>\n",
       "      <th>Amsterdam</th>\n",
       "      <td>1.842482</td>\n",
       "      <td>2.0</td>\n",
       "    </tr>\n",
       "    <tr>\n",
       "      <th>Athens</th>\n",
       "      <td>1.723256</td>\n",
       "      <td>2.0</td>\n",
       "    </tr>\n",
       "    <tr>\n",
       "      <th>Barcelona</th>\n",
       "      <td>1.782536</td>\n",
       "      <td>2.0</td>\n",
       "    </tr>\n",
       "    <tr>\n",
       "      <th>Berlin</th>\n",
       "      <td>1.754799</td>\n",
       "      <td>2.0</td>\n",
       "    </tr>\n",
       "    <tr>\n",
       "      <th>Bratislava</th>\n",
       "      <td>1.835714</td>\n",
       "      <td>2.0</td>\n",
       "    </tr>\n",
       "    <tr>\n",
       "      <th>Brussels</th>\n",
       "      <td>1.857351</td>\n",
       "      <td>2.0</td>\n",
       "    </tr>\n",
       "    <tr>\n",
       "      <th>Budapest</th>\n",
       "      <td>1.710197</td>\n",
       "      <td>2.0</td>\n",
       "    </tr>\n",
       "    <tr>\n",
       "      <th>Copenhagen</th>\n",
       "      <td>1.902778</td>\n",
       "      <td>2.0</td>\n",
       "    </tr>\n",
       "    <tr>\n",
       "      <th>Dublin</th>\n",
       "      <td>1.772727</td>\n",
       "      <td>2.0</td>\n",
       "    </tr>\n",
       "    <tr>\n",
       "      <th>Edinburgh</th>\n",
       "      <td>1.711968</td>\n",
       "      <td>2.0</td>\n",
       "    </tr>\n",
       "    <tr>\n",
       "      <th>Geneva</th>\n",
       "      <td>2.049231</td>\n",
       "      <td>2.0</td>\n",
       "    </tr>\n",
       "    <tr>\n",
       "      <th>Hamburg</th>\n",
       "      <td>1.865741</td>\n",
       "      <td>2.0</td>\n",
       "    </tr>\n",
       "    <tr>\n",
       "      <th>Helsinki</th>\n",
       "      <td>1.832653</td>\n",
       "      <td>2.0</td>\n",
       "    </tr>\n",
       "    <tr>\n",
       "      <th>Krakow</th>\n",
       "      <td>1.651316</td>\n",
       "      <td>2.0</td>\n",
       "    </tr>\n",
       "    <tr>\n",
       "      <th>Lisbon</th>\n",
       "      <td>1.727907</td>\n",
       "      <td>2.0</td>\n",
       "    </tr>\n",
       "    <tr>\n",
       "      <th>Ljubljana</th>\n",
       "      <td>1.781250</td>\n",
       "      <td>2.0</td>\n",
       "    </tr>\n",
       "    <tr>\n",
       "      <th>London</th>\n",
       "      <td>1.804437</td>\n",
       "      <td>2.0</td>\n",
       "    </tr>\n",
       "    <tr>\n",
       "      <th>Luxembourg</th>\n",
       "      <td>1.986486</td>\n",
       "      <td>2.0</td>\n",
       "    </tr>\n",
       "    <tr>\n",
       "      <th>Lyon</th>\n",
       "      <td>1.887473</td>\n",
       "      <td>2.0</td>\n",
       "    </tr>\n",
       "    <tr>\n",
       "      <th>Madrid</th>\n",
       "      <td>1.849827</td>\n",
       "      <td>2.0</td>\n",
       "    </tr>\n",
       "    <tr>\n",
       "      <th>Milan</th>\n",
       "      <td>1.738690</td>\n",
       "      <td>2.0</td>\n",
       "    </tr>\n",
       "    <tr>\n",
       "      <th>Munich</th>\n",
       "      <td>1.911348</td>\n",
       "      <td>2.0</td>\n",
       "    </tr>\n",
       "    <tr>\n",
       "      <th>Oslo</th>\n",
       "      <td>1.943396</td>\n",
       "      <td>2.0</td>\n",
       "    </tr>\n",
       "    <tr>\n",
       "      <th>Paris</th>\n",
       "      <td>1.897227</td>\n",
       "      <td>2.0</td>\n",
       "    </tr>\n",
       "    <tr>\n",
       "      <th>Porto</th>\n",
       "      <td>1.681690</td>\n",
       "      <td>2.0</td>\n",
       "    </tr>\n",
       "    <tr>\n",
       "      <th>Prague</th>\n",
       "      <td>1.731982</td>\n",
       "      <td>2.0</td>\n",
       "    </tr>\n",
       "    <tr>\n",
       "      <th>Rome</th>\n",
       "      <td>1.723804</td>\n",
       "      <td>2.0</td>\n",
       "    </tr>\n",
       "    <tr>\n",
       "      <th>Stockholm</th>\n",
       "      <td>1.943182</td>\n",
       "      <td>2.0</td>\n",
       "    </tr>\n",
       "    <tr>\n",
       "      <th>Vienna</th>\n",
       "      <td>1.853933</td>\n",
       "      <td>2.0</td>\n",
       "    </tr>\n",
       "    <tr>\n",
       "      <th>Warsaw</th>\n",
       "      <td>1.810502</td>\n",
       "      <td>2.0</td>\n",
       "    </tr>\n",
       "    <tr>\n",
       "      <th>Zurich</th>\n",
       "      <td>1.965241</td>\n",
       "      <td>2.0</td>\n",
       "    </tr>\n",
       "  </tbody>\n",
       "</table>\n",
       "</div>"
      ],
      "text/plain": [
       "            Price_Range  Price_Range\n",
       "City                                \n",
       "Amsterdam      1.842482          2.0\n",
       "Athens         1.723256          2.0\n",
       "Barcelona      1.782536          2.0\n",
       "Berlin         1.754799          2.0\n",
       "Bratislava     1.835714          2.0\n",
       "Brussels       1.857351          2.0\n",
       "Budapest       1.710197          2.0\n",
       "Copenhagen     1.902778          2.0\n",
       "Dublin         1.772727          2.0\n",
       "Edinburgh      1.711968          2.0\n",
       "Geneva         2.049231          2.0\n",
       "Hamburg        1.865741          2.0\n",
       "Helsinki       1.832653          2.0\n",
       "Krakow         1.651316          2.0\n",
       "Lisbon         1.727907          2.0\n",
       "Ljubljana      1.781250          2.0\n",
       "London         1.804437          2.0\n",
       "Luxembourg     1.986486          2.0\n",
       "Lyon           1.887473          2.0\n",
       "Madrid         1.849827          2.0\n",
       "Milan          1.738690          2.0\n",
       "Munich         1.911348          2.0\n",
       "Oslo           1.943396          2.0\n",
       "Paris          1.897227          2.0\n",
       "Porto          1.681690          2.0\n",
       "Prague         1.731982          2.0\n",
       "Rome           1.723804          2.0\n",
       "Stockholm      1.943182          2.0\n",
       "Vienna         1.853933          2.0\n",
       "Warsaw         1.810502          2.0\n",
       "Zurich         1.965241          2.0"
      ]
     },
     "execution_count": 22,
     "metadata": {},
     "output_type": "execute_result"
    }
   ],
   "source": [
    "display(df['Price_Range'].describe())\n",
    "pd.concat([df.groupby(['City'])['Price_Range'].mean(), df.groupby(['City'])['Price_Range'].median()], axis = 1)"
   ]
  },
  {
   "cell_type": "markdown",
   "metadata": {},
   "source": [
    "Оценим пропуски в Price_Range по городам"
   ]
  },
  {
   "cell_type": "code",
   "execution_count": 23,
   "metadata": {},
   "outputs": [
    {
     "data": {
      "text/html": [
       "<div>\n",
       "<style scoped>\n",
       "    .dataframe tbody tr th:only-of-type {\n",
       "        vertical-align: middle;\n",
       "    }\n",
       "\n",
       "    .dataframe tbody tr th {\n",
       "        vertical-align: top;\n",
       "    }\n",
       "\n",
       "    .dataframe thead th {\n",
       "        text-align: right;\n",
       "    }\n",
       "</style>\n",
       "<table border=\"1\" class=\"dataframe\">\n",
       "  <thead>\n",
       "    <tr style=\"text-align: right;\">\n",
       "      <th></th>\n",
       "      <th>Price_Range_NAN</th>\n",
       "      <th>City</th>\n",
       "      <th>NAN</th>\n",
       "    </tr>\n",
       "    <tr>\n",
       "      <th>City</th>\n",
       "      <th></th>\n",
       "      <th></th>\n",
       "      <th></th>\n",
       "    </tr>\n",
       "  </thead>\n",
       "  <tbody>\n",
       "    <tr>\n",
       "      <th>Amsterdam</th>\n",
       "      <td>248</td>\n",
       "      <td>1086</td>\n",
       "      <td>22.836096</td>\n",
       "    </tr>\n",
       "    <tr>\n",
       "      <th>Athens</th>\n",
       "      <td>198</td>\n",
       "      <td>628</td>\n",
       "      <td>31.528662</td>\n",
       "    </tr>\n",
       "    <tr>\n",
       "      <th>Barcelona</th>\n",
       "      <td>936</td>\n",
       "      <td>2734</td>\n",
       "      <td>34.235552</td>\n",
       "    </tr>\n",
       "    <tr>\n",
       "      <th>Berlin</th>\n",
       "      <td>1009</td>\n",
       "      <td>2155</td>\n",
       "      <td>46.821346</td>\n",
       "    </tr>\n",
       "    <tr>\n",
       "      <th>Bratislava</th>\n",
       "      <td>161</td>\n",
       "      <td>301</td>\n",
       "      <td>53.488372</td>\n",
       "    </tr>\n",
       "    <tr>\n",
       "      <th>Brussels</th>\n",
       "      <td>373</td>\n",
       "      <td>1060</td>\n",
       "      <td>35.188679</td>\n",
       "    </tr>\n",
       "    <tr>\n",
       "      <th>Budapest</th>\n",
       "      <td>257</td>\n",
       "      <td>816</td>\n",
       "      <td>31.495098</td>\n",
       "    </tr>\n",
       "    <tr>\n",
       "      <th>Copenhagen</th>\n",
       "      <td>227</td>\n",
       "      <td>659</td>\n",
       "      <td>34.446131</td>\n",
       "    </tr>\n",
       "    <tr>\n",
       "      <th>Dublin</th>\n",
       "      <td>167</td>\n",
       "      <td>673</td>\n",
       "      <td>24.814264</td>\n",
       "    </tr>\n",
       "    <tr>\n",
       "      <th>Edinburgh</th>\n",
       "      <td>103</td>\n",
       "      <td>596</td>\n",
       "      <td>17.281879</td>\n",
       "    </tr>\n",
       "    <tr>\n",
       "      <th>Geneva</th>\n",
       "      <td>156</td>\n",
       "      <td>481</td>\n",
       "      <td>32.432432</td>\n",
       "    </tr>\n",
       "    <tr>\n",
       "      <th>Hamburg</th>\n",
       "      <td>517</td>\n",
       "      <td>949</td>\n",
       "      <td>54.478398</td>\n",
       "    </tr>\n",
       "    <tr>\n",
       "      <th>Helsinki</th>\n",
       "      <td>131</td>\n",
       "      <td>376</td>\n",
       "      <td>34.840426</td>\n",
       "    </tr>\n",
       "    <tr>\n",
       "      <th>Krakow</th>\n",
       "      <td>139</td>\n",
       "      <td>443</td>\n",
       "      <td>31.376975</td>\n",
       "    </tr>\n",
       "    <tr>\n",
       "      <th>Lisbon</th>\n",
       "      <td>440</td>\n",
       "      <td>1300</td>\n",
       "      <td>33.846154</td>\n",
       "    </tr>\n",
       "    <tr>\n",
       "      <th>Ljubljana</th>\n",
       "      <td>55</td>\n",
       "      <td>183</td>\n",
       "      <td>30.054645</td>\n",
       "    </tr>\n",
       "    <tr>\n",
       "      <th>London</th>\n",
       "      <td>1610</td>\n",
       "      <td>5757</td>\n",
       "      <td>27.965954</td>\n",
       "    </tr>\n",
       "    <tr>\n",
       "      <th>Luxembourg</th>\n",
       "      <td>62</td>\n",
       "      <td>210</td>\n",
       "      <td>29.523810</td>\n",
       "    </tr>\n",
       "    <tr>\n",
       "      <th>Lyon</th>\n",
       "      <td>421</td>\n",
       "      <td>892</td>\n",
       "      <td>47.197309</td>\n",
       "    </tr>\n",
       "    <tr>\n",
       "      <th>Madrid</th>\n",
       "      <td>1370</td>\n",
       "      <td>3108</td>\n",
       "      <td>44.079794</td>\n",
       "    </tr>\n",
       "    <tr>\n",
       "      <th>Milan</th>\n",
       "      <td>851</td>\n",
       "      <td>2133</td>\n",
       "      <td>39.896859</td>\n",
       "    </tr>\n",
       "    <tr>\n",
       "      <th>Munich</th>\n",
       "      <td>329</td>\n",
       "      <td>893</td>\n",
       "      <td>36.842105</td>\n",
       "    </tr>\n",
       "    <tr>\n",
       "      <th>Oslo</th>\n",
       "      <td>120</td>\n",
       "      <td>385</td>\n",
       "      <td>31.168831</td>\n",
       "    </tr>\n",
       "    <tr>\n",
       "      <th>Paris</th>\n",
       "      <td>1579</td>\n",
       "      <td>4897</td>\n",
       "      <td>32.244231</td>\n",
       "    </tr>\n",
       "    <tr>\n",
       "      <th>Porto</th>\n",
       "      <td>158</td>\n",
       "      <td>513</td>\n",
       "      <td>30.799220</td>\n",
       "    </tr>\n",
       "    <tr>\n",
       "      <th>Prague</th>\n",
       "      <td>555</td>\n",
       "      <td>1443</td>\n",
       "      <td>38.461538</td>\n",
       "    </tr>\n",
       "    <tr>\n",
       "      <th>Rome</th>\n",
       "      <td>427</td>\n",
       "      <td>2078</td>\n",
       "      <td>20.548604</td>\n",
       "    </tr>\n",
       "    <tr>\n",
       "      <th>Stockholm</th>\n",
       "      <td>380</td>\n",
       "      <td>820</td>\n",
       "      <td>46.341463</td>\n",
       "    </tr>\n",
       "    <tr>\n",
       "      <th>Vienna</th>\n",
       "      <td>454</td>\n",
       "      <td>1166</td>\n",
       "      <td>38.936535</td>\n",
       "    </tr>\n",
       "    <tr>\n",
       "      <th>Warsaw</th>\n",
       "      <td>289</td>\n",
       "      <td>727</td>\n",
       "      <td>39.752407</td>\n",
       "    </tr>\n",
       "    <tr>\n",
       "      <th>Zurich</th>\n",
       "      <td>164</td>\n",
       "      <td>538</td>\n",
       "      <td>30.483271</td>\n",
       "    </tr>\n",
       "  </tbody>\n",
       "</table>\n",
       "</div>"
      ],
      "text/plain": [
       "            Price_Range_NAN  City        NAN\n",
       "City                                        \n",
       "Amsterdam               248  1086  22.836096\n",
       "Athens                  198   628  31.528662\n",
       "Barcelona               936  2734  34.235552\n",
       "Berlin                 1009  2155  46.821346\n",
       "Bratislava              161   301  53.488372\n",
       "Brussels                373  1060  35.188679\n",
       "Budapest                257   816  31.495098\n",
       "Copenhagen              227   659  34.446131\n",
       "Dublin                  167   673  24.814264\n",
       "Edinburgh               103   596  17.281879\n",
       "Geneva                  156   481  32.432432\n",
       "Hamburg                 517   949  54.478398\n",
       "Helsinki                131   376  34.840426\n",
       "Krakow                  139   443  31.376975\n",
       "Lisbon                  440  1300  33.846154\n",
       "Ljubljana                55   183  30.054645\n",
       "London                 1610  5757  27.965954\n",
       "Luxembourg               62   210  29.523810\n",
       "Lyon                    421   892  47.197309\n",
       "Madrid                 1370  3108  44.079794\n",
       "Milan                   851  2133  39.896859\n",
       "Munich                  329   893  36.842105\n",
       "Oslo                    120   385  31.168831\n",
       "Paris                  1579  4897  32.244231\n",
       "Porto                   158   513  30.799220\n",
       "Prague                  555  1443  38.461538\n",
       "Rome                    427  2078  20.548604\n",
       "Stockholm               380   820  46.341463\n",
       "Vienna                  454  1166  38.936535\n",
       "Warsaw                  289   727  39.752407\n",
       "Zurich                  164   538  30.483271"
      ]
     },
     "metadata": {},
     "output_type": "display_data"
    },
    {
     "data": {
      "text/plain": [
       "count    31.000000\n",
       "mean     34.948614\n",
       "std       8.723983\n",
       "min      17.281879\n",
       "25%      30.641246\n",
       "50%      33.846154\n",
       "75%      39.344471\n",
       "max      54.478398\n",
       "Name: NAN, dtype: float64"
      ]
     },
     "execution_count": 23,
     "metadata": {},
     "output_type": "execute_result"
    }
   ],
   "source": [
    "df_city_NAN = pd.concat([df[df['Price_Range'].isna()].groupby(['City'])['Price_Range_NAN'].count(), \n",
    "           df.groupby(['City'])['City'].count()], axis = 1)\n",
    "df_city_NAN['NAN'] = 100* df_city_NAN['Price_Range_NAN'] / df_city_NAN['City']\n",
    "display(df_city_NAN)\n",
    "df_city_NAN.NAN.describe()"
   ]
  },
  {
   "cell_type": "markdown",
   "metadata": {},
   "source": [
    "Среднее почти совпадает с медианой - 33% и равно 35%, но есть города с большим количеством пропусков (>50%) по категории ресторана при этом по всем городам медиана равна  2, среднее находится в диапазоне от 1.65 до 2.05 что позволяет нам сделать предположение, заполнение пропусков медианной величиной не повлечет за собой негативных последствий.\n",
    "Оценим влияние на Рейтинг пропусков."
   ]
  },
  {
   "cell_type": "code",
   "execution_count": 25,
   "metadata": {},
   "outputs": [
    {
     "data": {
      "text/plain": [
       "<AxesSubplot:xlabel='Price_Range_NAN', ylabel='Rating'>"
      ]
     },
     "execution_count": 25,
     "metadata": {},
     "output_type": "execute_result"
    },
    {
     "data": {
      "image/png": "[encoded data removed]",
      "text/plain": [
       "<Figure size 1296x504 with 1 Axes>"
      ]
     },
     "metadata": {
      "needs_background": "light"
     },
     "output_type": "display_data"
    }
   ],
   "source": [
    "plt.figure(figsize=(18, 7))\n",
    "sns.boxplot(x = 'Price_Range_NAN', y = 'Rating', data = df)"
   ]
  },
  {
   "cell_type": "markdown",
   "metadata": {},
   "source": [
    "Видно, что пропуски на целевую переменную влияния не оказывают."
   ]
  },
  {
   "cell_type": "code",
   "execution_count": 26,
   "metadata": {},
   "outputs": [
    {
     "data": {
      "text/plain": [
       "<AxesSubplot:xlabel='Price_Range', ylabel='Rating'>"
      ]
     },
     "execution_count": 26,
     "metadata": {},
     "output_type": "execute_result"
    },
    {
     "data": {
      "image/png": "[encoded data removed]",
      "text/plain": [
       "<Figure size 1296x504 with 1 Axes>"
      ]
     },
     "metadata": {
      "needs_background": "light"
     },
     "output_type": "display_data"
    }
   ],
   "source": [
    "df['Price_Range'].fillna(2, inplace = True)\n",
    "plt.figure(figsize=(18, 7))\n",
    "sns.boxplot(x = 'Price_Range', y = 'Rating', data = df)"
   ]
  },
  {
   "cell_type": "markdown",
   "metadata": {},
   "source": [
    "Из графика можно сделать вывод что ресторавы высшей и низшей ценовых категорий реже получают плохие оценки."
   ]
  },
  {
   "cell_type": "markdown",
   "metadata": {},
   "source": [
    "## Restaurant_id"
   ]
  },
  {
   "cell_type": "code",
   "execution_count": 27,
   "metadata": {},
   "outputs": [],
   "source": [
    "rest_chain = df.Restaurant_id.value_counts()\n",
    "rest_chain = list(rest_chain.loc[rest_chain > 1].index)\n",
    "\n",
    "df['Network'] = df['Restaurant_id'].apply(lambda x: 1 if x in rest_chain else 0)\n",
    "#Добавили новый признак - сетевой ли ресторан"
   ]
  },
  {
   "cell_type": "markdown",
   "metadata": {},
   "source": [
    "## Cuisines"
   ]
  },
  {
   "cell_type": "code",
   "execution_count": 28,
   "metadata": {},
   "outputs": [],
   "source": [
    "df['Cuisine_Style_NAN'] = pd.isna(df['Cuisine_Style']).astype('uint8') # Признак \"пропуск ли\""
   ]
  },
  {
   "cell_type": "markdown",
   "metadata": {},
   "source": [
    "Обработаем признак и сделаем его элементы списками"
   ]
  },
  {
   "cell_type": "code",
   "execution_count": 29,
   "metadata": {},
   "outputs": [],
   "source": [
    "df['Cuisine_Style'] = df['Cuisine_Style'].apply(lambda x: x if str(x)=='nan' else literal_eval(x))"
   ]
  },
  {
   "cell_type": "code",
   "execution_count": 30,
   "metadata": {},
   "outputs": [],
   "source": [
    "df['Cuisine_Number'] = df['Cuisine_Style'].apply(lambda x: 1 if str(x)=='nan' else len(x)) \n",
    "# Признак количества кухонь представленных в ресторане\n",
    "df['Cuisine_Number_Norm'] = df['Cuisine_Number']/df['City'].map(df.groupby(['City'])['Cuisine_Number'].max())\n",
    "# Нормируем по максимальному количеству кухонь представленных в ресторане города"
   ]
  },
  {
   "cell_type": "markdown",
   "metadata": {},
   "source": [
    "Посчитаем разные типы кухонь, какие представлены чаще, какие реже всего"
   ]
  },
  {
   "cell_type": "code",
   "execution_count": 31,
   "metadata": {},
   "outputs": [
    {
     "data": {
      "text/plain": [
       "count      125.000000\n",
       "mean       764.904000\n",
       "std       1684.697156\n",
       "min          1.000000\n",
       "25%         21.000000\n",
       "50%        163.000000\n",
       "75%        595.000000\n",
       "max      11189.000000\n",
       "Name: Cuisine_Style, dtype: float64"
      ]
     },
     "metadata": {},
     "output_type": "display_data"
    }
   ],
   "source": [
    "cuisine_number = df['Cuisine_Style'].dropna().explode().value_counts()\n",
    "display(cuisine_number.describe())\n",
    "cuisine_rare = list(cuisine_number[cuisine_number<=cuisine_number.quantile(0.5)].index)\n",
    "cuisine_popular = list(cuisine_number[cuisine_number>=cuisine_number.quantile(0.75)].index)"
   ]
  },
  {
   "cell_type": "code",
   "execution_count": 32,
   "metadata": {},
   "outputs": [],
   "source": [
    "def find_in_list(item, item_list):\n",
    "    \"\"\"Ищет элемент item в списке item_list\"\"\"\n",
    "    for cell in item:\n",
    "        if cell in item_list:\n",
    "            return 1\n",
    "        else: continue\n",
    "    return 0\n",
    "\n",
    "df['Cuisine_Popular'] = df['Cuisine_Style'].dropna().apply(lambda x: find_in_list(x, cuisine_popular))\n",
    "df['Cuisine_Rare'] = df['Cuisine_Style'].dropna().apply(lambda x: find_in_list(x, cuisine_rare))\n",
    "df['Cuisine_Rare'].fillna(0, inplace = True)\n",
    "df['Cuisine_Popular'].fillna(0, inplace = True)\n",
    "# Создали признаки популярной и редкой кухонь"
   ]
  },
  {
   "cell_type": "code",
   "execution_count": 33,
   "metadata": {},
   "outputs": [],
   "source": [
    "multi_cuisine = df.groupby(['City'])['Cuisine_Number'].mean().round(0)\n",
    "df['Cuisine_Multi'] = df['City'].map(multi_cuisine)\n",
    "df['Cuisine_Multi'] = df.apply(lambda row: 1 if row['Cuisine_Number']>= row['Cuisine_Multi'] else 0, axis = 1)\n",
    "# Признак показывает, что в ресторане количество кухонь больше среднего по городу"
   ]
  },
  {
   "cell_type": "code",
   "execution_count": 34,
   "metadata": {},
   "outputs": [],
   "source": [
    "def get_cuisine_top(item):\n",
    "    \"\"\"Функция получает кухни из топа для ресторана\n",
    "    Для остальных кухонь происходит замена на 'Other'\"\"\"\n",
    "    cuisine_top = []\n",
    "    if str(item) == 'nan':\n",
    "        cuisine_top.append('Other')\n",
    "    else:\n",
    "        for cell in item:\n",
    "            if cell in cuisine_popular:\n",
    "                cuisine_top.append(cell)\n",
    "            elif 'Other' not in cuisine_top:\n",
    "                cuisine_top.append('Other')\n",
    "    \n",
    "    return cuisine_top\n",
    "\n",
    "df['Cuisine_Top'] = df['Cuisine_Style'].apply(get_cuisine_top)"
   ]
  },
  {
   "cell_type": "markdown",
   "metadata": {},
   "source": [
    "## Reviews\n",
    "Сначала поправим некорректные данные и превратим значения в список из двух списков"
   ]
  },
  {
   "cell_type": "code",
   "execution_count": 35,
   "metadata": {},
   "outputs": [],
   "source": [
    "df['Reviews'] = df['Reviews'].dropna().apply(\n",
    "    lambda x: literal_eval(str(x).replace('nan', '').replace('[,', \"['',\")))\n",
    "df['Reviews'] = df['Reviews'].dropna().apply(\n",
    "    lambda x: np.nan if len(x[0]) == 0 & len(x[1]) == 0 else x)"
   ]
  },
  {
   "cell_type": "markdown",
   "metadata": {},
   "source": [
    "Второй список каждого элемента представляет собой список из двух дат последних отзывов"
   ]
  },
  {
   "cell_type": "code",
   "execution_count": 36,
   "metadata": {},
   "outputs": [],
   "source": [
    "df['Date'] = df['Reviews'].dropna().apply(lambda x: x[1])\n",
    "df['Date_1'] = df['Date'].dropna().apply(lambda x: x[1] if len(x)==2 else x[0] if len(x)==1 else np.nan)\n",
    "df['Date_2'] = df['Date'].dropna().apply(lambda x: x[0] if len(x)==2 else np.nan)\n",
    "df.drop('Date', axis=1, inplace=True)\n",
    "df['Date_1'] = pd.to_datetime(df['Date_1'])\n",
    "df['Date_2'] = pd.to_datetime(df['Date_2'])\n",
    "df['Date_1'].fillna(df['Date_1'].min(), inplace = True)\n",
    "df['Date_2'].fillna(df['Date_2'].max(), inplace = True)"
   ]
  },
  {
   "cell_type": "markdown",
   "metadata": {},
   "source": [
    "Определим признак - количество дней между обзорами"
   ]
  },
  {
   "cell_type": "code",
   "execution_count": 37,
   "metadata": {},
   "outputs": [
    {
     "data": {
      "text/plain": [
       "count    40000.000000\n",
       "mean       994.605975\n",
       "std       1813.231598\n",
       "min          0.000000\n",
       "25%         34.000000\n",
       "50%        127.000000\n",
       "75%        531.000000\n",
       "max       5059.000000\n",
       "Name: Days_Review, dtype: float64"
      ]
     },
     "execution_count": 37,
     "metadata": {},
     "output_type": "execute_result"
    },
    {
     "data": {
      "image/png": "[encoded data removed]",
      "text/plain": [
       "<Figure size 1296x504 with 1 Axes>"
      ]
     },
     "metadata": {
      "needs_background": "light"
     },
     "output_type": "display_data"
    }
   ],
   "source": [
    "df['Days_Review'] = abs(df['Date_2'] - df['Date_1']).dt.days\n",
    "plt.figure(figsize=(18, 7))\n",
    "df['Days_Review'].hist(bins=100)\n",
    "df['Days_Review'].describe()\n",
    "#Большое количество дней говорит о том что отзывы не оставляют"
   ]
  },
  {
   "cell_type": "markdown",
   "metadata": {},
   "source": [
    "Следующий признак - дней до сегодня от последнего отзыва"
   ]
  },
  {
   "cell_type": "code",
   "execution_count": 38,
   "metadata": {},
   "outputs": [
    {
     "data": {
      "text/plain": [
       "count    40000.000000\n",
       "mean      1227.396125\n",
       "std        258.203646\n",
       "min       1052.000000\n",
       "25%       1052.000000\n",
       "50%       1142.000000\n",
       "75%       1279.000000\n",
       "max       4664.000000\n",
       "Name: Days_to_Today, dtype: float64"
      ]
     },
     "execution_count": 38,
     "metadata": {},
     "output_type": "execute_result"
    },
    {
     "data": {
      "image/png": "[encoded data removed]",
      "text/plain": [
       "<Figure size 1296x504 with 1 Axes>"
      ]
     },
     "metadata": {
      "needs_background": "light"
     },
     "output_type": "display_data"
    }
   ],
   "source": [
    "df['Days_to_Today'] = (datetime.now() - df['Date_2']).dt.days\n",
    "plt.figure(figsize=(18, 7))\n",
    "df['Days_to_Today'].hist(bins=100)\n",
    "df['Days_to_Today'].describe()"
   ]
  },
  {
   "cell_type": "markdown",
   "metadata": {},
   "source": [
    "Признаки немного коррелируют между собой"
   ]
  },
  {
   "cell_type": "code",
   "execution_count": 39,
   "metadata": {},
   "outputs": [
    {
     "data": {
      "text/html": [
       "<div>\n",
       "<style scoped>\n",
       "    .dataframe tbody tr th:only-of-type {\n",
       "        vertical-align: middle;\n",
       "    }\n",
       "\n",
       "    .dataframe tbody tr th {\n",
       "        vertical-align: top;\n",
       "    }\n",
       "\n",
       "    .dataframe thead th {\n",
       "        text-align: right;\n",
       "    }\n",
       "</style>\n",
       "<table border=\"1\" class=\"dataframe\">\n",
       "  <thead>\n",
       "    <tr style=\"text-align: right;\">\n",
       "      <th></th>\n",
       "      <th>Days_Review</th>\n",
       "      <th>Days_to_Today</th>\n",
       "    </tr>\n",
       "  </thead>\n",
       "  <tbody>\n",
       "    <tr>\n",
       "      <th>Days_Review</th>\n",
       "      <td>1.000000</td>\n",
       "      <td>-0.296247</td>\n",
       "    </tr>\n",
       "    <tr>\n",
       "      <th>Days_to_Today</th>\n",
       "      <td>-0.296247</td>\n",
       "      <td>1.000000</td>\n",
       "    </tr>\n",
       "  </tbody>\n",
       "</table>\n",
       "</div>"
      ],
      "text/plain": [
       "               Days_Review  Days_to_Today\n",
       "Days_Review       1.000000      -0.296247\n",
       "Days_to_Today    -0.296247       1.000000"
      ]
     },
     "execution_count": 39,
     "metadata": {},
     "output_type": "execute_result"
    }
   ],
   "source": [
    "df[['Days_Review', 'Days_to_Today']].corr()"
   ]
  },
  {
   "cell_type": "markdown",
   "metadata": {},
   "source": [
    "Теперь перейдем к самим отзывам"
   ]
  },
  {
   "cell_type": "code",
   "execution_count": 40,
   "metadata": {},
   "outputs": [],
   "source": [
    "df['Reviews'] = df['Reviews'].dropna().apply(lambda x: x[0])\n",
    "df['Last_Reviews'] = df['Reviews'].apply(lambda x: 0 if str(x)=='nan' else len(x))\n",
    "#Признак количества последних отзывов. Три категории: 0, 1, 2 по количеству информации."
   ]
  },
  {
   "cell_type": "code",
   "execution_count": 41,
   "metadata": {},
   "outputs": [
    {
     "data": {
      "text/plain": [
       "count    40000.000000\n",
       "mean         1.562525\n",
       "std          0.754755\n",
       "min          0.000000\n",
       "25%          1.000000\n",
       "50%          2.000000\n",
       "75%          2.000000\n",
       "max          2.000000\n",
       "Name: Last_Reviews, dtype: float64"
      ]
     },
     "execution_count": 41,
     "metadata": {},
     "output_type": "execute_result"
    }
   ],
   "source": [
    "df['Last_Reviews'].describe()"
   ]
  },
  {
   "cell_type": "markdown",
   "metadata": {},
   "source": [
    "Оценим длину отзывов, которые оставляют"
   ]
  },
  {
   "cell_type": "code",
   "execution_count": 42,
   "metadata": {},
   "outputs": [],
   "source": [
    "def review_len(cell):\n",
    "    \"\"\"Оценивает среднюю длину строкового элементов списка\"\"\"\n",
    "    if str(cell) == 'nan': return 0\n",
    "    elif len(cell) == 0: return 0\n",
    "    else:\n",
    "        lenght = 0\n",
    "        for rev in cell:\n",
    "            lenght += len(rev)\n",
    "        return lenght / len(cell)\n",
    "    \n",
    "df['Reviews_Len'] = df['Reviews'].apply(review_len)"
   ]
  },
  {
   "cell_type": "code",
   "execution_count": 43,
   "metadata": {},
   "outputs": [
    {
     "data": {
      "text/plain": [
       "count    40000.000000\n",
       "mean        20.024037\n",
       "std         11.913387\n",
       "min          0.000000\n",
       "25%         13.000000\n",
       "50%         21.000000\n",
       "75%         28.500000\n",
       "max         45.000000\n",
       "Name: Reviews_Len, dtype: float64"
      ]
     },
     "execution_count": 43,
     "metadata": {},
     "output_type": "execute_result"
    }
   ],
   "source": [
    "df['Reviews_Len'].describe()"
   ]
  },
  {
   "cell_type": "markdown",
   "metadata": {},
   "source": [
    "Пользователи оставляют чаще короткие отзывы, среднее и медиана около 20 знаков"
   ]
  },
  {
   "cell_type": "markdown",
   "metadata": {},
   "source": [
    "Поработаем немного с самим отзывами - оценим позитивность оставляемых отзывов"
   ]
  },
  {
   "cell_type": "code",
   "execution_count": 45,
   "metadata": {},
   "outputs": [],
   "source": [
    "positive_words = pd.read_csv('positive_words.csv', header = None)[0].to_list()\n",
    "\n",
    "def find_positive_words(cell):\n",
    "    \"\"\"Ищет слова в словаре - списке положительно окрашенных слов\"\"\"\n",
    "    if str(cell) == 'nan': return 0\n",
    "    elif len(cell) == 0: return 0\n",
    "    else:\n",
    "        num_words = 0\n",
    "        num_words_total = 0\n",
    "        for rev in cell:\n",
    "            for word in rev.lower().split():\n",
    "                num_words_total += 1\n",
    "                if word in positive_words:\n",
    "                    num_words += 1\n",
    "        \n",
    "    if num_words_total == 0: return 0\n",
    "    else: return num_words / num_words_total\n",
    "        \n",
    "df['Positiveness'] = df['Reviews'].apply(find_positive_words)"
   ]
  },
  {
   "cell_type": "markdown",
   "metadata": {},
   "source": [
    "## Number of Reviews"
   ]
  },
  {
   "cell_type": "code",
   "execution_count": 46,
   "metadata": {},
   "outputs": [
    {
     "data": {
      "text/html": [
       "<div>\n",
       "<style scoped>\n",
       "    .dataframe tbody tr th:only-of-type {\n",
       "        vertical-align: middle;\n",
       "    }\n",
       "\n",
       "    .dataframe tbody tr th {\n",
       "        vertical-align: top;\n",
       "    }\n",
       "\n",
       "    .dataframe thead th {\n",
       "        text-align: right;\n",
       "    }\n",
       "</style>\n",
       "<table border=\"1\" class=\"dataframe\">\n",
       "  <thead>\n",
       "    <tr style=\"text-align: right;\">\n",
       "      <th></th>\n",
       "      <th>Number_of_Reviews</th>\n",
       "      <th>Last_Reviews</th>\n",
       "    </tr>\n",
       "  </thead>\n",
       "  <tbody>\n",
       "    <tr>\n",
       "      <th>8</th>\n",
       "      <td>NaN</td>\n",
       "      <td>0</td>\n",
       "    </tr>\n",
       "    <tr>\n",
       "      <th>21</th>\n",
       "      <td>NaN</td>\n",
       "      <td>0</td>\n",
       "    </tr>\n",
       "    <tr>\n",
       "      <th>32</th>\n",
       "      <td>NaN</td>\n",
       "      <td>1</td>\n",
       "    </tr>\n",
       "    <tr>\n",
       "      <th>102</th>\n",
       "      <td>NaN</td>\n",
       "      <td>0</td>\n",
       "    </tr>\n",
       "    <tr>\n",
       "      <th>108</th>\n",
       "      <td>NaN</td>\n",
       "      <td>0</td>\n",
       "    </tr>\n",
       "    <tr>\n",
       "      <th>...</th>\n",
       "      <td>...</td>\n",
       "      <td>...</td>\n",
       "    </tr>\n",
       "    <tr>\n",
       "      <th>39965</th>\n",
       "      <td>NaN</td>\n",
       "      <td>0</td>\n",
       "    </tr>\n",
       "    <tr>\n",
       "      <th>39972</th>\n",
       "      <td>NaN</td>\n",
       "      <td>1</td>\n",
       "    </tr>\n",
       "    <tr>\n",
       "      <th>39986</th>\n",
       "      <td>NaN</td>\n",
       "      <td>0</td>\n",
       "    </tr>\n",
       "    <tr>\n",
       "      <th>39988</th>\n",
       "      <td>NaN</td>\n",
       "      <td>0</td>\n",
       "    </tr>\n",
       "    <tr>\n",
       "      <th>39989</th>\n",
       "      <td>NaN</td>\n",
       "      <td>1</td>\n",
       "    </tr>\n",
       "  </tbody>\n",
       "</table>\n",
       "<p>2543 rows × 2 columns</p>\n",
       "</div>"
      ],
      "text/plain": [
       "       Number_of_Reviews  Last_Reviews\n",
       "8                    NaN             0\n",
       "21                   NaN             0\n",
       "32                   NaN             1\n",
       "102                  NaN             0\n",
       "108                  NaN             0\n",
       "...                  ...           ...\n",
       "39965                NaN             0\n",
       "39972                NaN             1\n",
       "39986                NaN             0\n",
       "39988                NaN             0\n",
       "39989                NaN             1\n",
       "\n",
       "[2543 rows x 2 columns]"
      ]
     },
     "execution_count": 46,
     "metadata": {},
     "output_type": "execute_result"
    }
   ],
   "source": [
    "df[df['Number_of_Reviews'].isna()][['Number_of_Reviews', 'Last_Reviews']]"
   ]
  },
  {
   "cell_type": "markdown",
   "metadata": {},
   "source": [
    "Есть пропуски к которым были отзывы в колонке Reviews, заменим их."
   ]
  },
  {
   "cell_type": "code",
   "execution_count": 47,
   "metadata": {},
   "outputs": [],
   "source": [
    "df.loc[df['Number_of_Reviews'].isna(),['Number_of_Reviews']] = df['Last_Reviews']"
   ]
  },
  {
   "cell_type": "code",
   "execution_count": 48,
   "metadata": {},
   "outputs": [
    {
     "data": {
      "text/plain": [
       "<AxesSubplot:xlabel='City'>"
      ]
     },
     "execution_count": 48,
     "metadata": {},
     "output_type": "execute_result"
    },
    {
     "data": {
      "image/png": "[encoded data removed]",
      "text/plain": [
       "<Figure size 1296x504 with 1 Axes>"
      ]
     },
     "metadata": {
      "needs_background": "light"
     },
     "output_type": "display_data"
    }
   ],
   "source": [
    "plt.figure(figsize=(18, 7))\n",
    "df.groupby('City')['Number_of_Reviews'].sum().sort_values(ascending=False).plot(kind='bar')"
   ]
  },
  {
   "cell_type": "markdown",
   "metadata": {},
   "source": [
    "На графике видно, что чем больше город, тем больше отзывов.\n",
    "Добавим признак отношения рейтинга в городе к количеству отзывов в этом городе."
   ]
  },
  {
   "cell_type": "code",
   "execution_count": 49,
   "metadata": {},
   "outputs": [],
   "source": [
    "df['Rank_to_Reviews'] = df['Ranking'] / df['City'].map(df.groupby('City')['Number_of_Reviews'].sum())"
   ]
  },
  {
   "cell_type": "markdown",
   "metadata": {},
   "source": [
    "## URL_TA и ID_TA"
   ]
  },
  {
   "cell_type": "code",
   "execution_count": 50,
   "metadata": {},
   "outputs": [],
   "source": [
    "df['ID_INT'] = df['ID_TA'].apply(lambda x: int(x[1:]))"
   ]
  },
  {
   "cell_type": "code",
   "execution_count": 51,
   "metadata": {},
   "outputs": [],
   "source": [
    "df['URL_INT'] = df['URL_TA'].str.split('-').apply(lambda s: int(s[1][1:]))"
   ]
  },
  {
   "cell_type": "markdown",
   "metadata": {},
   "source": [
    "# EDA \n",
    "[Exploratory Data Analysis](https://ru.wikipedia.org/wiki/Разведочный_анализ_данных) - Анализ данных\n",
    "На этом этапе мы строим графики, ищем закономерности, аномалии, выбросы или связи между признаками.\n",
    "В общем цель этого этапа понять, что эти данные могут нам дать и как признаки могут быть взаимосвязаны между собой.\n",
    "Понимание изначальных признаков позволит сгенерировать новые, более сильные и, тем самым, сделать нашу модель лучше.\n",
    "![](https://miro.medium.com/max/2598/1*RXdMb7Uk6mGqWqPguHULaQ.png)"
   ]
  },
  {
   "cell_type": "markdown",
   "metadata": {},
   "source": [
    "### Посмотрим распределение признака"
   ]
  },
  {
   "cell_type": "code",
   "execution_count": 52,
   "metadata": {},
   "outputs": [
    {
     "data": {
      "text/plain": [
       "<AxesSubplot:>"
      ]
     },
     "execution_count": 52,
     "metadata": {},
     "output_type": "execute_result"
    },
    {
     "data": {
      "image/png": "[encoded data removed]",
      "text/plain": [
       "<Figure size 720x504 with 1 Axes>"
      ]
     },
     "metadata": {
      "needs_background": "light"
     },
     "output_type": "display_data"
    }
   ],
   "source": [
    "plt.rcParams['figure.figsize'] = (10,7)\n",
    "df['Ranking'].hist(bins=100)"
   ]
  },
  {
   "cell_type": "markdown",
   "metadata": {},
   "source": [
    "У нас много ресторанов, которые не дотягивают и до 2500 места в своем городе, а что там по городам?"
   ]
  },
  {
   "cell_type": "code",
   "execution_count": 53,
   "metadata": {},
   "outputs": [
    {
     "data": {
      "text/plain": [
       "<AxesSubplot:>"
      ]
     },
     "execution_count": 53,
     "metadata": {},
     "output_type": "execute_result"
    },
    {
     "data": {
      "image/png": "[encoded data removed]",
      "text/plain": [
       "<Figure size 720x504 with 1 Axes>"
      ]
     },
     "metadata": {
      "needs_background": "light"
     },
     "output_type": "display_data"
    }
   ],
   "source": [
    "df['City'].value_counts(ascending=True).plot(kind='barh')"
   ]
  },
  {
   "cell_type": "markdown",
   "metadata": {},
   "source": [
    "А кто-то говорил, что французы любят поесть=) Посмотрим, как изменится распределение в большом городе:"
   ]
  },
  {
   "cell_type": "code",
   "execution_count": 54,
   "metadata": {},
   "outputs": [
    {
     "data": {
      "text/plain": [
       "<AxesSubplot:>"
      ]
     },
     "execution_count": 54,
     "metadata": {},
     "output_type": "execute_result"
    },
    {
     "data": {
      "image/png": "[encoded data removed]",
      "text/plain": [
       "<Figure size 720x504 with 1 Axes>"
      ]
     },
     "metadata": {
      "needs_background": "light"
     },
     "output_type": "display_data"
    }
   ],
   "source": [
    "df['Ranking'][df['City'] =='London'].hist(bins=100)"
   ]
  },
  {
   "cell_type": "code",
   "execution_count": 55,
   "metadata": {},
   "outputs": [
    {
     "data": {
      "image/png": "[encoded data removed]",
      "text/plain": [
       "<Figure size 720x504 with 1 Axes>"
      ]
     },
     "metadata": {
      "needs_background": "light"
     },
     "output_type": "display_data"
    }
   ],
   "source": [
    "# посмотрим на топ 10 городов\n",
    "for x in (df['City'].value_counts())[0:10].index:\n",
    "    df['Ranking'][df['City'] == x].hist(bins=100)\n",
    "plt.show()"
   ]
  },
  {
   "cell_type": "markdown",
   "metadata": {},
   "source": [
    "Получается, что Ranking имеет нормальное распределение, просто в больших городах больше ресторанов, из-за мы этого имеем смещение, так что добавить новый признак с отношением к количеству ресторанов в городе было правильным решением."
   ]
  },
  {
   "cell_type": "markdown",
   "metadata": {},
   "source": [
    "### Посмотрим распределение целевой переменной"
   ]
  },
  {
   "cell_type": "code",
   "execution_count": 56,
   "metadata": {},
   "outputs": [
    {
     "data": {
      "text/plain": [
       "<AxesSubplot:>"
      ]
     },
     "execution_count": 56,
     "metadata": {},
     "output_type": "execute_result"
    },
    {
     "data": {
      "image/png": "[encoded data removed]",
      "text/plain": [
       "<Figure size 720x504 with 1 Axes>"
      ]
     },
     "metadata": {
      "needs_background": "light"
     },
     "output_type": "display_data"
    }
   ],
   "source": [
    "df['Rating'].value_counts(ascending=True).plot(kind='barh')"
   ]
  },
  {
   "cell_type": "markdown",
   "metadata": {},
   "source": [
    "### Посмотрим распределение целевой переменной относительно признака"
   ]
  },
  {
   "cell_type": "code",
   "execution_count": 57,
   "metadata": {},
   "outputs": [
    {
     "data": {
      "text/plain": [
       "<AxesSubplot:>"
      ]
     },
     "execution_count": 57,
     "metadata": {},
     "output_type": "execute_result"
    },
    {
     "data": {
      "image/png": "[encoded data removed]",
      "text/plain": [
       "<Figure size 720x504 with 1 Axes>"
      ]
     },
     "metadata": {
      "needs_background": "light"
     },
     "output_type": "display_data"
    }
   ],
   "source": [
    "df['Ranking_Norm'][df['Rating'] == 5].hist(bins=100)"
   ]
  },
  {
   "cell_type": "code",
   "execution_count": 58,
   "metadata": {},
   "outputs": [
    {
     "data": {
      "text/plain": [
       "<AxesSubplot:>"
      ]
     },
     "execution_count": 58,
     "metadata": {},
     "output_type": "execute_result"
    },
    {
     "data": {
      "image/png": "[encoded data removed]",
      "text/plain": [
       "<Figure size 720x504 with 1 Axes>"
      ]
     },
     "metadata": {
      "needs_background": "light"
     },
     "output_type": "display_data"
    }
   ],
   "source": [
    "df['Ranking_Norm'][df['Rating'] < 4].hist(bins=100)"
   ]
  },
  {
   "cell_type": "markdown",
   "metadata": {},
   "source": [
    "### А теперь посмотрим на корреляцию признаков\n",
    "На этом графике уже сейчас видно, как признаки связаны между собой и с целевой переменной."
   ]
  },
  {
   "cell_type": "code",
   "execution_count": 59,
   "metadata": {},
   "outputs": [
    {
     "data": {
      "text/plain": [
       "<AxesSubplot:>"
      ]
     },
     "execution_count": 59,
     "metadata": {},
     "output_type": "execute_result"
    },
    {
     "data": {
      "image/png": "[encoded data removed]",
      "text/plain": [
       "<Figure size 1080x720 with 2 Axes>"
      ]
     },
     "metadata": {
      "needs_background": "light"
     },
     "output_type": "display_data"
    }
   ],
   "source": [
    "plt.rcParams['figure.figsize'] = (15,10)\n",
    "sns.heatmap(df.corr(),)"
   ]
  },
  {
   "cell_type": "markdown",
   "metadata": {},
   "source": [
    "Часть признаков сильно коррелирует между собой"
   ]
  },
  {
   "cell_type": "markdown",
   "metadata": {},
   "source": [
    "# Dummies"
   ]
  },
  {
   "cell_type": "markdown",
   "metadata": {},
   "source": [
    "Разбираем dummy переменные"
   ]
  },
  {
   "cell_type": "code",
   "execution_count": 60,
   "metadata": {},
   "outputs": [],
   "source": [
    "df_city = pd.get_dummies(df['City'], prefix = 'City_Range')\n",
    "df_price_range = pd.get_dummies(df['Price_Range'], prefix = 'Price_Range')\n",
    "df_country = pd.get_dummies(df['Country'], prefix = 'Country_Range')\n",
    "df_cuisine = pd.get_dummies(df['Cuisine_Top'].explode(), prefix = 'Cuisine_Range').sum(level=0)"
   ]
  },
  {
   "cell_type": "code",
   "execution_count": 62,
   "metadata": {},
   "outputs": [],
   "source": [
    "cols = ['Price_Range', 'Number_of_Reviews', 'Positiveness',\n",
    "       'Network', 'Rests_in_City', 'Is_Capital', 'City_Population',\n",
    "       'Rests_per_Person', 'Ranking_Norm', 'Cuisine_Style_NAN',\n",
    "       'Cuisine_Number_Norm', 'Cuisine_Number', 'Cuisine_Rare',\n",
    "       'Cuisine_Popular', 'Cuisine_Multi', 'Price_Range_NAN',\n",
    "       'Days_Review', 'Days_to_Today', 'Reviews_Len',\n",
    "       'Rank_to_Reviews', 'ID_INT', 'URL_INT', 'Rating']\n",
    "df1 = pd.concat([df[cols],df_city], axis=1)\n",
    "df1 = pd.concat([df1,df_price_range], axis=1)\n",
    "df1 = pd.concat([df1,df_country], axis=1)\n",
    "df1 = pd.concat([df1,df_cuisine], axis=1)"
   ]
  },
  {
   "cell_type": "code",
   "execution_count": 63,
   "metadata": {},
   "outputs": [
    {
     "data": {
      "text/html": [
       "<div>\n",
       "<style scoped>\n",
       "    .dataframe tbody tr th:only-of-type {\n",
       "        vertical-align: middle;\n",
       "    }\n",
       "\n",
       "    .dataframe tbody tr th {\n",
       "        vertical-align: top;\n",
       "    }\n",
       "\n",
       "    .dataframe thead th {\n",
       "        text-align: right;\n",
       "    }\n",
       "</style>\n",
       "<table border=\"1\" class=\"dataframe\">\n",
       "  <thead>\n",
       "    <tr style=\"text-align: right;\">\n",
       "      <th></th>\n",
       "      <th>Rating</th>\n",
       "    </tr>\n",
       "  </thead>\n",
       "  <tbody>\n",
       "    <tr>\n",
       "      <th>Rating</th>\n",
       "      <td>1.000000</td>\n",
       "    </tr>\n",
       "    <tr>\n",
       "      <th>Network</th>\n",
       "      <td>0.223689</td>\n",
       "    </tr>\n",
       "    <tr>\n",
       "      <th>Positiveness</th>\n",
       "      <td>0.170133</td>\n",
       "    </tr>\n",
       "    <tr>\n",
       "      <th>ID_INT</th>\n",
       "      <td>0.159111</td>\n",
       "    </tr>\n",
       "    <tr>\n",
       "      <th>Cuisine_Range_Vegetarian Friendly</th>\n",
       "      <td>0.128356</td>\n",
       "    </tr>\n",
       "    <tr>\n",
       "      <th>...</th>\n",
       "      <td>...</td>\n",
       "    </tr>\n",
       "    <tr>\n",
       "      <th>City_Range_Madrid</th>\n",
       "      <td>-0.083462</td>\n",
       "    </tr>\n",
       "    <tr>\n",
       "      <th>Country_Range_Spain</th>\n",
       "      <td>-0.083462</td>\n",
       "    </tr>\n",
       "    <tr>\n",
       "      <th>Price_Range_2.0</th>\n",
       "      <td>-0.087754</td>\n",
       "    </tr>\n",
       "    <tr>\n",
       "      <th>Rank_to_Reviews</th>\n",
       "      <td>-0.431902</td>\n",
       "    </tr>\n",
       "    <tr>\n",
       "      <th>Ranking_Norm</th>\n",
       "      <td>-0.542702</td>\n",
       "    </tr>\n",
       "  </tbody>\n",
       "</table>\n",
       "<p>113 rows × 1 columns</p>\n",
       "</div>"
      ],
      "text/plain": [
       "                                     Rating\n",
       "Rating                             1.000000\n",
       "Network                            0.223689\n",
       "Positiveness                       0.170133\n",
       "ID_INT                             0.159111\n",
       "Cuisine_Range_Vegetarian Friendly  0.128356\n",
       "...                                     ...\n",
       "City_Range_Madrid                 -0.083462\n",
       "Country_Range_Spain               -0.083462\n",
       "Price_Range_2.0                   -0.087754\n",
       "Rank_to_Reviews                   -0.431902\n",
       "Ranking_Norm                      -0.542702\n",
       "\n",
       "[113 rows x 1 columns]"
      ]
     },
     "execution_count": 63,
     "metadata": {},
     "output_type": "execute_result"
    }
   ],
   "source": [
    "df1.corr().Rating.sort_values(ascending=False).to_frame()"
   ]
  },
  {
   "cell_type": "markdown",
   "metadata": {},
   "source": [
    "#### Запускаем и проверяем что получилось"
   ]
  },
  {
   "cell_type": "code",
   "execution_count": 64,
   "metadata": {},
   "outputs": [],
   "source": [
    "y = df1.Rating.values            # наш таргет\n",
    "X = df1.drop(['Rating'], axis=1)"
   ]
  },
  {
   "cell_type": "markdown",
   "metadata": {},
   "source": [
    "**Перед тем как отправлять наши данные на обучение, разделим данные на еще один тест и трейн, для валидации. \n",
    "Это поможет нам проверить, как хорошо наша модель работает, до отправки submissiona на kaggle.**"
   ]
  },
  {
   "cell_type": "code",
   "execution_count": 65,
   "metadata": {},
   "outputs": [],
   "source": [
    "# Воспользуемся специальной функцие train_test_split для разбивки тестовых данных\n",
    "# выделим 20% данных на валидацию (параметр test_size)\n",
    "X_train, X_test, y_train, y_test = train_test_split(X, y, test_size=0.2, random_state=RANDOM_SEED)"
   ]
  },
  {
   "cell_type": "code",
   "execution_count": 67,
   "metadata": {},
   "outputs": [
    {
     "data": {
      "text/plain": [
       "((40000, 113), (40000, 112), (32000, 112), (8000, 112))"
      ]
     },
     "execution_count": 67,
     "metadata": {},
     "output_type": "execute_result"
    }
   ],
   "source": [
    "# проверяем\n",
    "df1.shape, X.shape, X_train.shape, X_test.shape"
   ]
  },
  {
   "cell_type": "markdown",
   "metadata": {},
   "source": [
    "# Model \n",
    "Сам ML"
   ]
  },
  {
   "cell_type": "code",
   "execution_count": 68,
   "metadata": {},
   "outputs": [],
   "source": [
    "# Импортируем необходимые библиотеки:\n",
    "from sklearn.ensemble import RandomForestRegressor # инструмент для создания и обучения модели\n",
    "from sklearn import metrics # инструменты для оценки точности модели"
   ]
  },
  {
   "cell_type": "code",
   "execution_count": 69,
   "metadata": {},
   "outputs": [],
   "source": [
    "# Создаём модель (НАСТРОЙКИ НЕ ТРОГАЕМ)\n",
    "model = RandomForestRegressor(n_estimators=100, verbose=1, n_jobs=-1, random_state=RANDOM_SEED)"
   ]
  },
  {
   "cell_type": "code",
   "execution_count": 70,
   "metadata": {},
   "outputs": [
    {
     "name": "stderr",
     "output_type": "stream",
     "text": [
      "[Parallel(n_jobs=-1)]: Using backend ThreadingBackend with 12 concurrent workers.\n",
      "[Parallel(n_jobs=-1)]: Done  26 tasks      | elapsed:    1.5s\n",
      "[Parallel(n_jobs=-1)]: Done 100 out of 100 | elapsed:    4.5s finished\n",
      "[Parallel(n_jobs=12)]: Using backend ThreadingBackend with 12 concurrent workers.\n",
      "[Parallel(n_jobs=12)]: Done  26 tasks      | elapsed:    0.0s\n",
      "[Parallel(n_jobs=12)]: Done 100 out of 100 | elapsed:    0.0s finished\n"
     ]
    }
   ],
   "source": [
    "# Обучаем модель на тестовом наборе данных\n",
    "model.fit(X_train, y_train)\n",
    "\n",
    "# Используем обученную модель для предсказания рейтинга ресторанов в тестовой выборке.\n",
    "# Предсказанные значения записываем в переменную y_pred\n",
    "y_pred = model.predict(X_test)"
   ]
  },
  {
   "cell_type": "code",
   "execution_count": 71,
   "metadata": {},
   "outputs": [],
   "source": [
    "y_pred = pd.Series(y_pred).apply(lambda x: round(x * 2.0)/2) # Округлим ответ под допустимые значения целевой переменной"
   ]
  },
  {
   "cell_type": "code",
   "execution_count": 72,
   "metadata": {},
   "outputs": [
    {
     "name": "stdout",
     "output_type": "stream",
     "text": [
      "MAE: 0.16325\n"
     ]
    }
   ],
   "source": [
    "# Сравниваем предсказанные значения (y_pred) с реальными (y_test), и смотрим насколько они в среднем отличаются\n",
    "# Метрика называется Mean Absolute Error (MAE) и показывает среднее отклонение предсказанных значений от фактических.\n",
    "print('MAE:', metrics.mean_absolute_error(y_test, y_pred))"
   ]
  },
  {
   "cell_type": "code",
   "execution_count": 74,
   "metadata": {},
   "outputs": [
    {
     "data": {
      "text/plain": [
       "<AxesSubplot:>"
      ]
     },
     "execution_count": 74,
     "metadata": {},
     "output_type": "execute_result"
    },
    {
     "data": {
      "image/png": "[encoded data removed]",
      "text/plain": [
       "<Figure size 720x720 with 1 Axes>"
      ]
     },
     "metadata": {
      "needs_background": "light"
     },
     "output_type": "display_data"
    }
   ],
   "source": [
    "# в RandomForestRegressor есть возможность вывести самые важные признаки для модели\n",
    "plt.rcParams['figure.figsize'] = (10,10)\n",
    "feat_importances = pd.Series(model.feature_importances_, index=X.columns)\n",
    "feat_importances.nlargest(20).plot(kind='barh')"
   ]
  },
  {
   "cell_type": "markdown",
   "metadata": {},
   "source": [
    "# Выводы"
   ]
  },
  {
   "cell_type": "markdown",
   "metadata": {},
   "source": []
  }
 ],
 "metadata": {
  "kernelspec": {
   "display_name": "Python 3",
   "language": "python",
   "name": "python3"
  },
  "language_info": {
   "codemirror_mode": {
    "name": "ipython",
    "version": 3
   },
   "file_extension": ".py",
   "mimetype": "text/x-python",
   "name": "python",
   "nbconvert_exporter": "python",
   "pygments_lexer": "ipython3",
   "version": "3.8.3"
  }
 },
 "nbformat": 4,
 "nbformat_minor": 4
}
